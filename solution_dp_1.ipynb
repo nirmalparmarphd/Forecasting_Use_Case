{
 "cells": [
  {
   "cell_type": "code",
   "execution_count": 1,
   "metadata": {},
   "outputs": [],
   "source": [
    "# !zenml init"
   ]
  },
  {
   "cell_type": "code",
   "execution_count": 2,
   "metadata": {},
   "outputs": [
    {
     "name": "stderr",
     "output_type": "stream",
     "text": [
      "/Users/nirmal/Documents/np_dsci_codes/.venv/lib/python3.11/site-packages/statsforecast/core.py:26: TqdmExperimentalWarning: Using `tqdm.autonotebook.tqdm` in notebook mode. Use `tqdm.tqdm` instead to force console mode (e.g. in jupyter console)\n",
      "  from tqdm.autonotebook import tqdm\n"
     ]
    }
   ],
   "source": [
    "from data_pipeline.pipe_line import data_pipeline, main_pipeline"
   ]
  },
  {
   "cell_type": "code",
   "execution_count": 3,
   "metadata": {},
   "outputs": [],
   "source": [
    "# # Register the MLflow experiment tracker\n",
    "# !zenml experiment-tracker register mlflow_experiment_tracker --flavor=mlflow"
   ]
  },
  {
   "cell_type": "code",
   "execution_count": 4,
   "metadata": {},
   "outputs": [
    {
     "name": "stdout",
     "output_type": "stream",
     "text": [
      "\u001b[1;35mInitiating a new run for the pipeline: \u001b[0m\u001b[1;36mForecasting Pipeline\u001b[1;35m.\u001b[0m\n",
      "\u001b[1;35mReusing registered pipeline version: \u001b[0m\u001b[1;36m(version: 13)\u001b[1;35m.\u001b[0m\n",
      "\u001b[1;35mExecuting a new run.\u001b[0m\n",
      "\u001b[1;35mCaching is disabled by default for \u001b[0m\u001b[1;36mForecasting Pipeline\u001b[1;35m.\u001b[0m\n",
      "\u001b[1;35mUsing user: \u001b[0m\u001b[1;36mdefault\u001b[1;35m\u001b[0m\n",
      "\u001b[1;35mUsing stack: \u001b[0m\u001b[1;36mdefault\u001b[1;35m\u001b[0m\n",
      "\u001b[1;35m  artifact_store: \u001b[0m\u001b[1;36mdefault\u001b[1;35m\u001b[0m\n",
      "\u001b[1;35m  orchestrator: \u001b[0m\u001b[1;36mdefault\u001b[1;35m\u001b[0m\n",
      "\u001b[1;35mYou can visualize your pipeline runs in the \u001b[0m\u001b[1;36mZenML Dashboard\u001b[1;35m. In order to try it locally, please run \u001b[0m\u001b[1;36mzenml up\u001b[1;35m.\u001b[0m\n",
      "\u001b[1;35mStep \u001b[0m\u001b[1;36mforecasting_model\u001b[1;35m has started.\u001b[0m\n",
      "\u001b[33mNo materializer is registered for type \u001b[0m\u001b[1;36m<class 'statsforecast.models.AutoARIMA'>\u001b[33m, so the default Pickle materializer was used. Pickle is not production ready and should only be used for prototyping as the artifacts cannot be loaded when running with a different Python version. Please consider implementing a custom materializer for type \u001b[0m\u001b[1;36m<class 'statsforecast.models.AutoARIMA'>\u001b[33m according to the instructions at https://docs.zenml.io/user-guide/advanced-guide/artifact-management/handle-custom-data-types\u001b[0m\n",
      "\u001b[1;35mStep \u001b[0m\u001b[1;36mforecasting_model\u001b[1;35m has finished in \u001b[0m\u001b[1;36m0.324s\u001b[1;35m.\u001b[0m\n",
      "\u001b[1;35mStep \u001b[0m\u001b[1;36mforecasting_model_2\u001b[1;35m has started.\u001b[0m\n",
      "\u001b[33mNo materializer is registered for type \u001b[0m\u001b[1;36m<class 'statsforecast.models.SeasonalNaive'>\u001b[33m, so the default Pickle materializer was used. Pickle is not production ready and should only be used for prototyping as the artifacts cannot be loaded when running with a different Python version. Please consider implementing a custom materializer for type \u001b[0m\u001b[1;36m<class 'statsforecast.models.SeasonalNaive'>\u001b[33m according to the instructions at https://docs.zenml.io/user-guide/advanced-guide/artifact-management/handle-custom-data-types\u001b[0m\n",
      "\u001b[1;35mStep \u001b[0m\u001b[1;36mforecasting_model_2\u001b[1;35m has finished in \u001b[0m\u001b[1;36m0.148s\u001b[1;35m.\u001b[0m\n",
      "\u001b[1;35mStep \u001b[0m\u001b[1;36mload_csv_data\u001b[1;35m has started.\u001b[0m\n",
      "\u001b[1;35mStep \u001b[0m\u001b[1;36mload_csv_data\u001b[1;35m has finished in \u001b[0m\u001b[1;36m0.884s\u001b[1;35m.\u001b[0m\n",
      "\u001b[1;35mStep \u001b[0m\u001b[1;36mdate_col_transform\u001b[1;35m has started.\u001b[0m\n",
      "\u001b[1;35mStep \u001b[0m\u001b[1;36mdate_col_transform\u001b[1;35m has finished in \u001b[0m\u001b[1;36m0.595s\u001b[1;35m.\u001b[0m\n",
      "\u001b[1;35mStep \u001b[0m\u001b[1;36mdate_col_extract\u001b[1;35m has started.\u001b[0m\n",
      "\u001b[1;35mStep \u001b[0m\u001b[1;36mdate_col_extract\u001b[1;35m has finished in \u001b[0m\u001b[1;36m0.574s\u001b[1;35m.\u001b[0m\n",
      "\u001b[1;35mStep \u001b[0m\u001b[1;36magg_month_data\u001b[1;35m has started.\u001b[0m\n",
      "\u001b[1;35mStep \u001b[0m\u001b[1;36magg_month_data\u001b[1;35m has finished in \u001b[0m\u001b[1;36m0.222s\u001b[1;35m.\u001b[0m\n",
      "\u001b[1;35mStep \u001b[0m\u001b[1;36mdate_add_agg_level\u001b[1;35m has started.\u001b[0m\n",
      "\u001b[1;35mStep \u001b[0m\u001b[1;36mdate_add_agg_level\u001b[1;35m has finished in \u001b[0m\u001b[1;36m0.167s\u001b[1;35m.\u001b[0m\n",
      "\u001b[1;35mStep \u001b[0m\u001b[1;36mtime_series_selection\u001b[1;35m has started.\u001b[0m\n",
      "\u001b[1;35mStep \u001b[0m\u001b[1;36mtime_series_selection\u001b[1;35m has finished in \u001b[0m\u001b[1;36m0.185s\u001b[1;35m.\u001b[0m\n",
      "\u001b[1;35mStep \u001b[0m\u001b[1;36mdata_selection\u001b[1;35m has started.\u001b[0m\n",
      "\u001b[1;35mStep \u001b[0m\u001b[1;36mdata_selection\u001b[1;35m has finished in \u001b[0m\u001b[1;36m0.162s\u001b[1;35m.\u001b[0m\n",
      "\u001b[1;35mStep \u001b[0m\u001b[1;36mforecasting_model_training_ARIMA\u001b[1;35m has started.\u001b[0m\n",
      "/Users/nirmal/Documents/np_dsci_codes/.venv/lib/python3.11/site-packages/statsforecast/core.py:399: FutureWarning: The `df` argument of the StatsForecast constructor as well as reusing stored dfs from other methods is deprecated and will raise an error in a future version. Please provide the `df` argument to the corresponding method instead, e.g. fit/forecast.\n",
      "  warnings.warn(\n",
      "/Users/nirmal/Documents/np_dsci_codes/.venv/lib/python3.11/site-packages/statsforecast/core.py:417: FutureWarning: In a future version the predictions will have the id as a column. You can set the `NIXTLA_ID_AS_COL` environment variable to adopt the new behavior and to suppress this warning.\n",
      "  warnings.warn(\n",
      "/Users/nirmal/Documents/np_dsci_codes/.venv/lib/python3.11/site-packages/statsforecast/core.py:399: FutureWarning: The `df` argument of the StatsForecast constructor as well as reusing stored dfs from other methods is deprecated and will raise an error in a future version. Please provide the `df` argument to the corresponding method instead, e.g. fit/forecast.\n",
      "  warnings.warn(\n",
      "/Users/nirmal/Documents/np_dsci_codes/.venv/lib/python3.11/site-packages/utilsforecast/processing.py:362: FutureWarning: 'M' is deprecated and will be removed in a future version, please use 'ME' instead.\n",
      "  freq = pd.tseries.frequencies.to_offset(freq)\n",
      "/Users/nirmal/Documents/np_dsci_codes/.venv/lib/python3.11/site-packages/utilsforecast/processing.py:414: FutureWarning: 'M' is deprecated and will be removed in a future version, please use 'ME' instead.\n",
      "  freq = pd.tseries.frequencies.to_offset(freq)\n",
      "/Users/nirmal/Documents/np_dsci_codes/.venv/lib/python3.11/site-packages/statsforecast/core.py:417: FutureWarning: In a future version the predictions will have the id as a column. You can set the `NIXTLA_ID_AS_COL` environment variable to adopt the new behavior and to suppress this warning.\n",
      "  warnings.warn(\n",
      "autoarima mape 22.62481689453125\n",
      "\u001b[1;35mStep \u001b[0m\u001b[1;36mforecasting_model_training_ARIMA\u001b[1;35m has finished in \u001b[0m\u001b[1;36m28.417s\u001b[1;35m.\u001b[0m\n",
      "\u001b[1;35mStep \u001b[0m\u001b[1;36mforecasting_model_training_SeasonalNaive\u001b[1;35m has started.\u001b[0m\n",
      "/Users/nirmal/Documents/np_dsci_codes/.venv/lib/python3.11/site-packages/statsforecast/core.py:399: FutureWarning: The `df` argument of the StatsForecast constructor as well as reusing stored dfs from other methods is deprecated and will raise an error in a future version. Please provide the `df` argument to the corresponding method instead, e.g. fit/forecast.\n",
      "  warnings.warn(\n",
      "/Users/nirmal/Documents/np_dsci_codes/.venv/lib/python3.11/site-packages/statsforecast/core.py:417: FutureWarning: In a future version the predictions will have the id as a column. You can set the `NIXTLA_ID_AS_COL` environment variable to adopt the new behavior and to suppress this warning.\n",
      "  warnings.warn(\n",
      "/Users/nirmal/Documents/np_dsci_codes/.venv/lib/python3.11/site-packages/statsforecast/core.py:399: FutureWarning: The `df` argument of the StatsForecast constructor as well as reusing stored dfs from other methods is deprecated and will raise an error in a future version. Please provide the `df` argument to the corresponding method instead, e.g. fit/forecast.\n",
      "  warnings.warn(\n",
      "/Users/nirmal/Documents/np_dsci_codes/.venv/lib/python3.11/site-packages/utilsforecast/processing.py:362: FutureWarning: 'M' is deprecated and will be removed in a future version, please use 'ME' instead.\n",
      "  freq = pd.tseries.frequencies.to_offset(freq)\n",
      "/Users/nirmal/Documents/np_dsci_codes/.venv/lib/python3.11/site-packages/utilsforecast/processing.py:414: FutureWarning: 'M' is deprecated and will be removed in a future version, please use 'ME' instead.\n",
      "  freq = pd.tseries.frequencies.to_offset(freq)\n",
      "/Users/nirmal/Documents/np_dsci_codes/.venv/lib/python3.11/site-packages/statsforecast/core.py:417: FutureWarning: In a future version the predictions will have the id as a column. You can set the `NIXTLA_ID_AS_COL` environment variable to adopt the new behavior and to suppress this warning.\n",
      "  warnings.warn(\n",
      "\u001b[1;35mStep \u001b[0m\u001b[1;36mforecasting_model_training_SeasonalNaive\u001b[1;35m has finished in \u001b[0m\u001b[1;36m7.204s\u001b[1;35m.\u001b[0m\n",
      "\u001b[1;35mStep \u001b[0m\u001b[1;36mbest_model\u001b[1;35m has started.\u001b[0m\n",
      "SeasonalNaive is the best model with MAPE: 20.865636825561523\n",
      "\u001b[33mNo materializer is registered for type \u001b[0m\u001b[1;36m<class 'statsforecast.models.SeasonalNaive'>\u001b[33m, so the default Pickle materializer was used. Pickle is not production ready and should only be used for prototyping as the artifacts cannot be loaded when running with a different Python version. Please consider implementing a custom materializer for type \u001b[0m\u001b[1;36m<class 'statsforecast.models.SeasonalNaive'>\u001b[33m according to the instructions at https://docs.zenml.io/user-guide/advanced-guide/artifact-management/handle-custom-data-types\u001b[0m\n",
      "\u001b[1;35mStep \u001b[0m\u001b[1;36mbest_model\u001b[1;35m has finished in \u001b[0m\u001b[1;36m0.605s\u001b[1;35m.\u001b[0m\n",
      "\u001b[1;35mPipeline run has finished in \u001b[0m\u001b[1;36m40.185s\u001b[1;35m.\u001b[0m\n"
     ]
    },
    {
     "data": {
      "text/plain": [
       "PipelineRunResponse(body=PipelineRunResponseBody(created=datetime.datetime(2024, 5, 12, 9, 59, 47, 61343), updated=datetime.datetime(2024, 5, 12, 9, 59, 47, 61344), user=UserResponse(body=UserResponseBody(created=datetime.datetime(2024, 4, 20, 15, 40, 21, 431102), updated=datetime.datetime(2024, 4, 20, 15, 40, 21, 431104), active=True, activation_token=None, full_name='', email_opted_in=None, is_service_account=False, is_admin=True), metadata=None, resources=None, id=UUID('3a83a8c5-1f1c-44eb-a17f-c0cd414147d1'), permission_denied=False, name='default'), status=<ExecutionStatus.INITIALIZING: 'initializing'>, stack=StackResponse(body=StackResponseBody(created=datetime.datetime(2024, 4, 20, 15, 40, 20, 993137), updated=datetime.datetime(2024, 4, 20, 15, 40, 20, 993137), user=None), metadata=None, resources=None, id=UUID('8b2d75d6-14de-474a-9651-5a34bd521e2c'), permission_denied=False, name='default'), pipeline=PipelineResponse(body=PipelineResponseBody(created=datetime.datetime(2024, 5, 12, 9, 19, 55, 936577), updated=datetime.datetime(2024, 5, 12, 9, 19, 55, 936579), user=UserResponse(body=UserResponseBody(created=datetime.datetime(2024, 4, 20, 15, 40, 21, 431102), updated=datetime.datetime(2024, 4, 20, 15, 40, 21, 431104), active=True, activation_token=None, full_name='', email_opted_in=None, is_service_account=False, is_admin=True), metadata=None, resources=None, id=UUID('3a83a8c5-1f1c-44eb-a17f-c0cd414147d1'), permission_denied=False, name='default'), status=[<ExecutionStatus.COMPLETED: 'completed'>, <ExecutionStatus.INITIALIZING: 'initializing'>], version='13'), metadata=None, resources=None, id=UUID('27a8a3a4-c669-41c5-a175-fdbf9fef9417'), permission_denied=False, name='Forecasting Pipeline'), build=None, schedule=None, code_reference=None, deployment_id=UUID('37327271-7fa9-40a3-840b-964517d284cb'), trigger_execution=None), metadata=PipelineRunResponseMetadata(workspace=WorkspaceResponse(body=WorkspaceResponseBody(created=datetime.datetime(2024, 4, 20, 15, 40, 20, 981133), updated=datetime.datetime(2024, 4, 20, 15, 40, 20, 981134)), metadata=None, resources=None, id=UUID('0d536f95-116e-40c3-b66a-1de349401a30'), permission_denied=False, name='default'), run_metadata={}, steps={}, config=PipelineConfiguration(enable_cache=False, enable_artifact_metadata=None, enable_artifact_visualization=None, enable_step_logs=None, settings={}, extra={}, failure_hook_source=None, success_hook_source=None, model=None, parameters=None, name='Forecasting Pipeline'), start_time=datetime.datetime(2024, 5, 12, 9, 59, 47, 60258), end_time=None, client_environment={'environment': 'notebook', 'os': 'mac', 'mac_version': '14.4.1', 'python_version': '3.11.2'}, orchestrator_environment={}, orchestrator_run_id=None), resources=None, id=UUID('f5acb7cd-f029-481e-9de3-495baa65dda8'), permission_denied=False, name='Forecasting Pipeline-2024_05_12-09_59_47_060253')"
      ]
     },
     "execution_count": 4,
     "metadata": {},
     "output_type": "execute_result"
    }
   ],
   "source": [
    "main_pipeline()"
   ]
  },
  {
   "cell_type": "code",
   "execution_count": 5,
   "metadata": {},
   "outputs": [],
   "source": [
    "# !zenml up --blocking"
   ]
  }
 ],
 "metadata": {
  "kernelspec": {
   "display_name": ".venv",
   "language": "python",
   "name": "python3"
  },
  "language_info": {
   "codemirror_mode": {
    "name": "ipython",
    "version": 3
   },
   "file_extension": ".py",
   "mimetype": "text/x-python",
   "name": "python",
   "nbconvert_exporter": "python",
   "pygments_lexer": "ipython3",
   "version": "3.11.2"
  }
 },
 "nbformat": 4,
 "nbformat_minor": 2
}
